{
  "nbformat": 4,
  "nbformat_minor": 0,
  "metadata": {
    "colab": {
      "provenance": [],
      "authorship_tag": "ABX9TyMzyzMZE0bHE4jHPCmQZQ75",
      "include_colab_link": true
    },
    "kernelspec": {
      "name": "python3",
      "display_name": "Python 3"
    },
    "language_info": {
      "name": "python"
    }
  },
  "cells": [
    {
      "cell_type": "markdown",
      "metadata": {
        "id": "view-in-github",
        "colab_type": "text"
      },
      "source": [
        "<a href=\"https://colab.research.google.com/github/mateozlatunic/klasifikacija-objekti-slike/blob/main/Kopija_bilje%C5%BEnice_Neuspjeli_poku%C5%A1aji.ipynb\" target=\"_parent\"><img src=\"https://colab.research.google.com/assets/colab-badge.svg\" alt=\"Open In Colab\"/></a>"
      ]
    },
    {
      "cell_type": "code",
      "execution_count": null,
      "metadata": {
        "id": "7aXtnIn8Gt4g"
      },
      "outputs": [],
      "source": [
        "#----------------------------------------------------------------Neuspijeli pokušaji-------------------------------------------------------------------------"
      ]
    },
    {
      "cell_type": "code",
      "source": [
        "#import tensorflow as tf\n",
        "#from tensorflow import keras\n",
        "#from tensorflow.keras import layers"
      ],
      "metadata": {
        "id": "83uXadc2G4Rk"
      },
      "execution_count": null,
      "outputs": []
    },
    {
      "cell_type": "code",
      "source": [
        "#(x_train, y_train), (x_test, y_test) = keras.datasets.cifar10.load_data()"
      ],
      "metadata": {
        "id": "0TCOBDUMG4YD"
      },
      "execution_count": null,
      "outputs": []
    },
    {
      "cell_type": "code",
      "source": [
        "#x_train = x_train.astype(\"float32\") / 255.0\n",
        "#x_test = x_test.astype(\"float32\") / 255.0"
      ],
      "metadata": {
        "id": "Q2A8uuWIG4b2"
      },
      "execution_count": null,
      "outputs": []
    },
    {
      "cell_type": "code",
      "source": [
        "#model = keras.Sequential(\n",
        "  #  [\n",
        " #       keras.Input(shape=(32, 32, 3)),\n",
        "   #     layers.Conv2D(32, kernel_size=(3, 3), activation=\"relu\"),\n",
        "    #    layers.MaxPooling2D(pool_size=(2, 2)),\n",
        "     #   layers.Conv2D(64, kernel_size=(3, 3), activation=\"relu\"),\n",
        "      #  layers.MaxPooling2D(pool_size=(2, 2)),\n",
        "       # layers.Flatten(),\n",
        "     #   layers.Dropout(0.5),\n",
        "   #     layers.Dense(10, activation=\"softmax\"),\n",
        "  #  ]\n",
        "#)"
      ],
      "metadata": {
        "id": "vHjB0z34G4eM"
      },
      "execution_count": null,
      "outputs": []
    },
    {
      "cell_type": "code",
      "source": [
        "#model.compile(loss=\"sparse_categorical_crossentropy\", optimizer=\"adam\", metrics=[\"accuracy\"])"
      ],
      "metadata": {
        "id": "fqI-V_32G4gr"
      },
      "execution_count": null,
      "outputs": []
    },
    {
      "cell_type": "code",
      "source": [
        "#model.evaluate(x_test, y_test)"
      ],
      "metadata": {
        "id": "p9QKFbk_G4i0"
      },
      "execution_count": null,
      "outputs": []
    },
    {
      "cell_type": "code",
      "source": [
        "#img = keras.preprocessing.image.load_img('plane.jpg', target_size=(32, 32))\n",
        "#img_array = keras.preprocessing.image.img_to_array(img)\n",
        "#img_array = tf.expand_dims(img_array, 0)\n",
        "#prediction = model.predict(img_array)\n",
        "#class_name = ['airplane', 'automobile', 'bird', 'cat', 'deer', 'dog', 'frog', 'horse', 'ship', 'truck'][prediction[0].argmax()]\n",
        "#print('Image classified as:', class_name)"
      ],
      "metadata": {
        "id": "kZsQKtugG4lD"
      },
      "execution_count": null,
      "outputs": []
    },
    {
      "cell_type": "code",
      "source": [
        "#from tensorflow.keras.models import load_model"
      ],
      "metadata": {
        "id": "tMo_954RG4nb"
      },
      "execution_count": null,
      "outputs": []
    },
    {
      "cell_type": "code",
      "source": [
        "#model_path = \"Moj Disk/Colab Notebooks/my_model.h5\""
      ],
      "metadata": {
        "id": "QkY3V6tnG4pn"
      },
      "execution_count": null,
      "outputs": []
    },
    {
      "cell_type": "code",
      "source": [
        "#model.save('/content/saved_model/mymodel.h5')"
      ],
      "metadata": {
        "id": "HS7DtZwsG4rx"
      },
      "execution_count": null,
      "outputs": []
    },
    {
      "cell_type": "code",
      "source": [
        "#import cv2\n",
        "#import numpy as np"
      ],
      "metadata": {
        "id": "QbAv7JikG4uI"
      },
      "execution_count": null,
      "outputs": []
    },
    {
      "cell_type": "code",
      "source": [
        "#classes = [\"person\", \"bicycle\", \"car\", \"motorbike\", \"aeroplane\", \"bus\", \"train\", \"truck\", \"boat\",\n",
        " #          \"traffic light\", \"fire hydrant\", \"stop sign\", \"parking meter\", \"bench\", \"bird\", \"cat\", \"dog\",\n",
        "  #         \"horse\", \"sheep\", \"cow\", \"elephant\", \"bear\", \"zebra\", \"giraffe\", \"backpack\", \"umbrella\",\n",
        "   #        \"handbag\", \"tie\", \"suitcase\", \"frisbee\", \"skis\", \"snowboard\", \"sports ball\", \"kite\",\n",
        "    #       \"baseball bat\", \"baseball glove\", \"skateboard\", \"surfboard\", \"tennis racket\", \"bottle\",\n",
        "     #      \"wine glass\", \"cup\", \"fork\", \"knife\", \"spoon\", \"bowl\", \"banana\", \"apple\", \"sandwich\",\n",
        "      #     \"orange\", \"broccoli\", \"carrot\", \"hot dog\", \"pizza\", \"donut\", \"cake\", \"chair\", \"sofa\",\n",
        "       #    \"pottedplant\", \"bed\", \"diningtable\", \"toilet\", \"tvmonitor\", \"laptop\", \"mouse\", \"remote\",\n",
        "        #   \"keyboard\", \"cell phone\", \"microwave\", \"oven\", \"toaster\", \"sink\", \"refrigerator\", \"book\",\n",
        "         #  \"clock\", \"vase\", \"scissors\", \"teddy bear\", \"hair drier\", \"toothbrush\"]"
      ],
      "metadata": {
        "id": "wliSs23FHnQT"
      },
      "execution_count": null,
      "outputs": []
    },
    {
      "cell_type": "code",
      "source": [
        "#net = cv2.dnn.readNetFromDarknet(\"yolov4.cfg\", \"yolov4.weights\")"
      ],
      "metadata": {
        "id": "_SHPGMavHnSr"
      },
      "execution_count": null,
      "outputs": []
    },
    {
      "cell_type": "code",
      "source": [
        "#image = cv2.imread('plane.jpg')"
      ],
      "metadata": {
        "id": "wrIfQifkHnU7"
      },
      "execution_count": null,
      "outputs": []
    },
    {
      "cell_type": "code",
      "source": [
        "#blob = cv2.dnn.blobFromImage(image, 1/255, (416, 416), swapRB=True, crop=False)\n",
        "#net.setInput(blob)\n",
        "#output_layers = net.getUnconnectedOutLayersNames()\n",
        "#layer_outputs = net.forward(output_layers)\n",
        "#boxes = []\n",
        "#confidences = []\n",
        "#class_ids = []\n",
        "\n",
        "#for output in layer_outputs:\n",
        " #   for detection in output:\n",
        "  #      scores = detection[5:]\n",
        "   #     class_id = np.argmax(scores)\n",
        "    #    confidence = scores[class_id]\n",
        "     #   if confidence > 0.5 and class_id == 2:\n",
        "      #      center_x = int(detection[0] * image.shape[1])\n",
        "       #     center_y = int(detection[1] * image.shape[0])\n",
        "        #    w = int(detection[2] * image.shape[1])\n",
        "         #   h = int(detection[3] * image.shape[0])\n",
        "      #      x = center_x - w // 2\n",
        "       #     y = center_y - h // 2\n",
        "        #    boxes.append([x, y, w, h])\n",
        "         #   confidences.append(float(confidence))\n",
        "          #  class_ids.append(class_id)"
      ],
      "metadata": {
        "id": "VW21tMB-HnXg"
      },
      "execution_count": null,
      "outputs": []
    },
    {
      "cell_type": "code",
      "source": [
        "#from google.colab.patches import cv2_imshow"
      ],
      "metadata": {
        "id": "RKcNvmGHHnZs"
      },
      "execution_count": null,
      "outputs": []
    },
    {
      "cell_type": "code",
      "source": [
        "#cv2_imshow(image)\n",
        "#cv2.waitKey(0)"
      ],
      "metadata": {
        "id": "ihtR5nFPHnbs"
      },
      "execution_count": null,
      "outputs": []
    }
  ]
}